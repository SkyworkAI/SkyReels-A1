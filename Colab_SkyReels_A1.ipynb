{
  "cells": [
    {
      "cell_type": "markdown",
      "metadata": {
        "id": "view-in-github",
        "colab_type": "text"
      },
      "source": [
        "<a href=\"https://colab.research.google.com/github/hylarucoder/SkyReels-A1/blob/main/Colab_SkyReels_A1.ipynb\" target=\"_parent\"><img src=\"https://colab.research.google.com/assets/colab-badge.svg\" alt=\"Open In Colab\"/></a>"
      ]
    },
    {
      "cell_type": "markdown",
      "metadata": {
        "id": "aaaaaaaaaa"
      },
      "source": [
        "# SkyReels-A1 Colab\n",
        "\n",
        "Ensure you have sufficient Google Drive storage.\n",
        "\n",
        "Compared to the official version, and adapted for Python 3.11, I forked Chumpy and built a PyTorch3D binary to significantly reduce installation time.\n",
        "\n",
        "This should run smoothly on an A100."
      ]
    },
    {
      "cell_type": "code",
      "execution_count": null,
      "metadata": {
        "id": "bbbbbbbbbb"
      },
      "outputs": [],
      "source": [
        "#@title Environment Setup\n",
        "from pathlib import Path\n",
        "\n",
        "OPTIONS = {}\n",
        "\n",
        "USE_GOOGLE_DRIVE = True  #@param {type:\"boolean\"}\n",
        "UPDATE_REPO = True  #@param {type:\"boolean\"}\n",
        "WORKSPACE = 'SkyReels-A1'\n",
        "OPTIONS['USE_GOOGLE_DRIVE'] = USE_GOOGLE_DRIVE\n",
        "OPTIONS['UPDATE_REPO'] = UPDATE_REPO\n",
        "\n",
        "if OPTIONS['USE_GOOGLE_DRIVE']:\n",
        "    !echo \"Mounting Google Drive...\"\n",
        "    %cd /\n",
        "\n",
        "    from google.colab import drive\n",
        "    drive.mount('/content/drive')\n",
        "\n",
        "    WORKSPACE = \"/content/drive/MyDrive/Colab/SkyReels-A1\"\n",
        "    %cd /content/drive/MyDrive/Colab\n",
        "\n",
        "![ ! -d $WORKSPACE ] && echo -= Initial setup SkyReels-A1 =- && git clone https://github.com/SkyworkAI/SkyReels-A1.git\n",
        "%cd $WORKSPACE\n",
        "\n",
        "if OPTIONS['UPDATE_REPO']:\n",
        "  !echo -= Updating SkyReels-A1 =-\n",
        "  !git pull\n",
        "\n"
      ]
    },
    {
      "cell_type": "markdown",
      "metadata": {
        "id": "cccccccccc"
      },
      "source": [
        "### Install checkpoints"
      ]
    },
    {
      "cell_type": "code",
      "execution_count": null,
      "metadata": {
        "id": "dddddddddd"
      },
      "outputs": [],
      "source": [
        "!pip install \"huggingface_hub[cli]\"\n",
        "!cd /content/drive/MyDrive/Colab/SkyReels-A1 && huggingface-cli download Skywork/SkyReels-A1 --local-dir ./pretrained_models/SkyReels-A1-5B\n",
        "!cp -r /content/drive/MyDrive/Colab/SkyReels-A1/pretrained_models/SkyReels-A1-5B/siglip-so400m-patch14-384 /content/drive/MyDrive/Colab/SkyReels-A1/pretrained_models\n",
        "!cp -r /content/drive/MyDrive/Colab/SkyReels-A1/pretrained_models/SkyReels-A1-5B/extra_models/* /content/drive/MyDrive/Colab/SkyReels-A1/pretrained_models\n",
        "# !cp -r /content/drive/MyDrive/Colab/SkyReels-A1/pretrained_models/SkyReels-A1-5B /content/drive/MyDrive/Colab/SkyReels-A1/pretrained_models"
      ]
    },
    {
      "cell_type": "markdown",
      "source": [
        "### Install Dependencies"
      ],
      "metadata": {
        "id": "bijtQG10kZqb"
      }
    },
    {
      "cell_type": "code",
      "execution_count": null,
      "metadata": {
        "id": "9uyGkkpYRR6N"
      },
      "outputs": [],
      "source": [
        "!echo -= Install dependencies =-\n",
        "!pip install -r /content/drive/MyDrive/Colab/SkyReels-A1/requirements-colab.txt\n",
        "!git clone https://github.com/hylarucoder/colab-prebuilt.git\n",
        "!pip install colab-prebuilt/pytorch3d-0.7.8-cp311-cp311-linux_x86_64.whl\n"
      ]
    },
    {
      "cell_type": "markdown",
      "metadata": {
        "id": "kkkkkkkkkkkkkkk"
      },
      "source": [
        "### Run Gradio\n",
        "\n",
        "It might be a little slow on the first run."
      ]
    },
    {
      "cell_type": "code",
      "execution_count": null,
      "metadata": {
        "id": "jjjjjjjjjjjjjj"
      },
      "outputs": [],
      "source": [
        "!cd /content/drive/MyDrive/Colab/SkyReels-A1 && python app.py"
      ]
    }
  ],
  "metadata": {
    "accelerator": "GPU",
    "colab": {
      "gpuType": "A100",
      "machine_shape": "hm",
      "provenance": [],
      "history_visible": true,
      "include_colab_link": true
    },
    "kernelspec": {
      "display_name": "Python 3",
      "name": "python3"
    },
    "language_info": {
      "name": "python"
    }
  },
  "nbformat": 4,
  "nbformat_minor": 0
}